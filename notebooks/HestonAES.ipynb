{
 "cells": [
  {
   "cell_type": "markdown",
   "metadata": {},
   "source": [
    "# Heston Almost Exact Simulation\n",
    "\n",
    "This is a qablet adaptation of [Heston Almost Exact Simulation](https://github.com/nburgessx/Papers/tree/main/HestonSimulation) by Nicholas Burgess."
   ]
  },
  {
   "cell_type": "code",
   "execution_count": null,
   "metadata": {},
   "outputs": [],
   "source": [
    "import numpy as np\n",
    "from datetime import datetime\n",
    "from math import sqrt\n",
    "import pyarrow as pa\n",
    "\n",
    "from qablet.base.mc import MCModel, MCStateBase  # The two base classes we need for our custom model\n",
    "from numpy.random import Generator, SFC64\n",
    "from qablet.base.utils import Forwards, discounter_from_dataset\n",
    "from qablet_contracts.eq.vanilla import Option\n",
    "from qablet_contracts.timetable import TS_EVENT_SCHEMA, py_to_ts\n",
    "from qablet.base.flags import Stats"
   ]
  },
  {
   "cell_type": "markdown",
   "metadata": {},
   "source": [
    "## Create the Model State Class"
   ]
  },
  {
   "cell_type": "code",
   "execution_count": null,
   "metadata": {},
   "outputs": [],
   "source": [
    "def CIR_Sample(NoOfPaths, kappa, gamma, vbar, s, t, v_s):\n",
    "    delta = 4.0 * kappa * vbar / gamma / gamma\n",
    "    c = 1.0 / (4.0 * kappa) * gamma * gamma * (1.0 - np.exp(-kappa * (t - s)))\n",
    "    kappaBar = (\n",
    "        4.0\n",
    "        * kappa\n",
    "        * v_s\n",
    "        * np.exp(-kappa * (t - s))\n",
    "        / (gamma * gamma * (1.0 - np.exp(-kappa * (t - s))))\n",
    "    )\n",
    "    sample = c * np.random.noncentral_chisquare(delta, kappaBar, NoOfPaths)\n",
    "    return sample\n",
    "\n",
    "\n",
    "class HestonAESMCState(MCStateBase):\n",
    "    def __init__(self, timetable, dataset):\n",
    "        super().__init__(timetable, dataset)\n",
    "\n",
    "        # fetch the model parameters from the dataset\n",
    "        self.n = dataset[\"MC\"][\"PATHS\"]\n",
    "        self.asset = dataset[\"HESTON\"][\"ASSET\"]\n",
    "        self.asset_fwd = Forwards(dataset[\"ASSETS\"][self.asset])\n",
    "        self.spot = self.asset_fwd.forward(0)\n",
    "\n",
    "        self.gamma = dataset[\"HESTON\"][\"VOL_OF_VAR\"]\n",
    "        self.kappa = dataset[\"HESTON\"][\"MEANREV\"]\n",
    "        self.vbar = dataset[\"HESTON\"][\"LONG_VAR\"]\n",
    "        self.rho = dataset[\"HESTON\"][\"CORRELATION\"]\n",
    "        self.v = dataset[\"HESTON\"][\"INITIAL_VAR\"]\n",
    "\n",
    "        # Initialize the arrays\n",
    "        self.rng = Generator(SFC64(dataset[\"MC\"][\"SEED\"]))\n",
    "        self.x_vec = np.zeros(self.n)  # process x (log stock)\n",
    "\n",
    "        self.cur_time = 0\n",
    "\n",
    "    def advance(self, new_time):\n",
    "        \"\"\"Update x_vec in place when we move simulation by time dt.\"\"\"\n",
    "\n",
    "        dt = new_time - self.cur_time\n",
    "        if dt < 1e-10:\n",
    "            return\n",
    "\n",
    "        r = self.asset_fwd.rate(new_time, self.cur_time)\n",
    "\n",
    "        # Generate the Brownian Increments\n",
    "        dw_vec = self.rng.standard_normal(self.n) * sqrt(dt)  # * self.vol\n",
    "\n",
    "        # Exact samples for the variance process\n",
    "        new_v = CIR_Sample(self.n, self.kappa, self.gamma, self.vbar, 0, dt, self.v)\n",
    "\n",
    "        # AES Constant Terms\n",
    "        k0 = (r - self.rho / self.gamma * self.kappa * self.vbar) * dt\n",
    "        k1 = (self.rho * self.kappa / self.gamma - 0.5) * dt - self.rho / self.gamma\n",
    "        k2 = self.rho / self.gamma\n",
    "\n",
    "        # Almost Exact Simulation for Log-Normal Asset Process\n",
    "        self.x_vec += (\n",
    "            k0\n",
    "            + k1 * self.v\n",
    "            + k2 * new_v\n",
    "            + np.sqrt((1.0 - self.rho**2) * self.v) * dw_vec\n",
    "        )\n",
    "\n",
    "        self.v = new_v\n",
    "        self.cur_time = new_time\n",
    "\n",
    "    def get_value(self, unit):\n",
    "        \"\"\"Return the value of the unit at the current time.\n",
    "        This model uses black scholes model for one asset, return its value using the simulated array.\n",
    "        For any other asset that may exist in the timetable, just return the default implementation in\n",
    "        the model base (i.e. simply return the forwards).\"\"\"\n",
    "\n",
    "        if unit == self.asset:\n",
    "            return self.spot * np.exp(self.x_vec)\n",
    "        else:\n",
    "            return None\n"
   ]
  },
  {
   "cell_type": "markdown",
   "metadata": {},
   "source": [
    "## Create the Model class\n",
    "We will now create the model class. In this case all we have to do is specify the state_class to be used by this model."
   ]
  },
  {
   "cell_type": "code",
   "execution_count": null,
   "metadata": {},
   "outputs": [],
   "source": [
    "class HestonAESMC(MCModel):\n",
    "\n",
    "    def state_class(self):\n",
    "        return HestonAESMCState"
   ]
  },
  {
   "cell_type": "markdown",
   "metadata": {},
   "source": [
    "## Create a vanilla option contract"
   ]
  },
  {
   "cell_type": "code",
   "execution_count": null,
   "metadata": {},
   "outputs": [
    {
     "name": "stdout",
     "output_type": "stream",
     "text": [
      "  track                      time op  quantity unit\n",
      "0       2024-12-31 00:00:00+00:00  >       0.0  USD\n",
      "1       2024-12-31 00:00:00+00:00  +    -100.0  USD\n",
      "2       2024-12-31 00:00:00+00:00  +       1.0   EQ\n"
     ]
    }
   ],
   "source": [
    "strike = 100\n",
    "ticker = \"EQ\"\n",
    "timetable = Option(\n",
    "    \"USD\", ticker, strike=strike, maturity=datetime(2024, 12, 31), is_call=True\n",
    ").timetable()\n",
    "print(timetable[\"events\"].to_pandas())"
   ]
  },
  {
   "cell_type": "markdown",
   "metadata": {},
   "source": [
    "## Create Dataset\n",
    "Create the dataset, with MC params, discounts and fwds as in previous examples. Add the parameters needed by our model."
   ]
  },
  {
   "cell_type": "code",
   "execution_count": null,
   "metadata": {},
   "outputs": [],
   "source": [
    "times = np.array([0.0, 5.0])\n",
    "rates = np.array([0.1, 0.1])\n",
    "discount_data = (\"ZERO_RATES\", np.column_stack((times, rates)))\n",
    "\n",
    "\n",
    "spot = 100.0\n",
    "div_rate = 0.0\n",
    "fwds = spot * np.exp((rates - div_rate) * times)\n",
    "fwd_data = (\"FORWARDS\", np.column_stack((times, fwds)))\n",
    "\n",
    "dataset = {\n",
    "    \"BASE\": \"USD\",\n",
    "    \"PRICING_TS\": py_to_ts(datetime(2023, 12, 31)).value,\n",
    "    \"ASSETS\": {\"USD\": discount_data, ticker: fwd_data},\n",
    "    \"MC\": {\"PATHS\": 2_500, \"TIMESTEP\": 1 / 1000, \"SEED\": 1, \"FLAGS\": Stats.CASHFLOW},\n",
    "    \"HESTON\": {\n",
    "        \"ASSET\": ticker,\n",
    "        \"INITIAL_VAR\": 0.04,\n",
    "        \"LONG_VAR\": 0.04,\n",
    "        \"VOL_OF_VAR\": 1.0,\n",
    "        \"MEANREV\": 0.5,\n",
    "        \"CORRELATION\": -0.9,\n",
    "    },\n",
    "}"
   ]
  },
  {
   "cell_type": "markdown",
   "metadata": {},
   "source": [
    "## Calculate Single Option Price"
   ]
  },
  {
   "cell_type": "code",
   "execution_count": null,
   "metadata": {},
   "outputs": [
    {
     "name": "stdout",
     "output_type": "stream",
     "text": [
      "price:   12.302057\n"
     ]
    }
   ],
   "source": [
    "model = HestonAESMC()\n",
    "price, stats = model.price(timetable, dataset)\n",
    "print(f\"price: {price:11.6f}\")"
   ]
  },
  {
   "cell_type": "markdown",
   "metadata": {},
   "source": [
    "## Generate Multiple Option prices\n",
    "\n",
    "- define a contract which is a series of forwards paying at given expiration dates.\n",
    "- use the cashflow stats to get the cashflow values at all paths\n",
    "- reconstruct option prices for different strikes and maturities."
   ]
  },
  {
   "cell_type": "code",
   "execution_count": null,
   "metadata": {},
   "outputs": [
    {
     "name": "stdout",
     "output_type": "stream",
     "text": [
      "[2.26848069e+01 1.33881814e+01 4.90740357e+00 1.26416265e-01\n",
      " 1.37369257e-03]\n",
      "[25.73005316 16.55131317  7.80295685  0.86197359  0.03006135]\n",
      "[31.62198349 22.3991109  13.48577577  5.15373019  0.43654451]\n"
     ]
    }
   ],
   "source": [
    "   \n",
    "expirations = [datetime(2024, 3, 31), datetime(2024, 6, 30), datetime(2024, 12, 31)]\n",
    "strikes = np.array([0.8, 0.9, 1.0, 1.1, 1.2]) * spot\n",
    "is_call = True\n",
    "# Create a timetable that pays forwards at given expirations\n",
    "events = [\n",
    "    {\n",
    "        \"track\": \"\",\n",
    "        \"time\": dt,\n",
    "        \"op\": \"+\",\n",
    "        \"quantity\": 1,\n",
    "        \"unit\": ticker,\n",
    "    }\n",
    "    for dt in expirations\n",
    "]\n",
    "\n",
    "events_table = pa.RecordBatch.from_pylist(events, schema=TS_EVENT_SCHEMA)\n",
    "fwd_timetable = {\"events\": events_table, \"expressions\": {}}\n",
    "\n",
    "discounter = discounter_from_dataset(dataset)\n",
    "\n",
    "_, stats = model.price(fwd_timetable, dataset)\n",
    "# cashflows for track 0, all events\n",
    "cf = stats[\"CASHFLOW\"][0]\n",
    "\n",
    "asset_fwds = Forwards(dataset[\"ASSETS\"][ticker])\n",
    "\n",
    "iv_mat = np.zeros((len(expirations), len(strikes)))\n",
    "for i, exp in enumerate(expirations):\n",
    "    prc_ts = dataset[\"PRICING_TS\"]\n",
    "    # Get Time in years from the millisecond timestamps\n",
    "    T = (py_to_ts(exp).value - prc_ts) / (365.25 * 24 * 3600 * 1e3)\n",
    "    df = discounter.discount(T)\n",
    "    fwd = asset_fwds.forward(T)\n",
    "\n",
    "    # calculate prices (value as of expiration date)\n",
    "    event_cf = cf[i] / df\n",
    "    strikes_c = strikes[..., None]  # Turn into a column vector\n",
    "    pay = event_cf - strikes_c\n",
    "    prices = np.maximum(pay, 0).mean(axis=1)\n",
    "\n",
    "    print(prices)"
   ]
  }
 ],
 "metadata": {
  "deepnote_execution_queue": [],
  "deepnote_notebook_id": "bb18d62bd5c4412c93abe157ba8bae7b",
  "deepnote_persisted_session": {
   "createdAt": "2023-12-14T19:45:11.526Z"
  },
  "kernelspec": {
   "display_name": ".venv",
   "language": "python",
   "name": "python3"
  },
  "language_info": {
   "codemirror_mode": {
    "name": "ipython",
    "version": 3
   },
   "file_extension": ".py",
   "mimetype": "text/x-python",
   "name": "python",
   "nbconvert_exporter": "python",
   "pygments_lexer": "ipython3"
  }
 },
 "nbformat": 4,
 "nbformat_minor": 0
}
