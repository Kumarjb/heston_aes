{
 "cells": [
  {
   "cell_type": "markdown",
   "metadata": {},
   "source": [
    "# Heston Almost Exact Simulation\n",
    "\n",
    "In this notebook we adapt the [Heston Almost Exact Simulation](https://github.com/nburgessx/Papers/tree/main/HestonSimulation) by Nicholas Burgess, into a qablet MC Model, and use it to price\n",
    "\n",
    "- Vanilla Options\n",
    "- Forward Starting Options\n",
    "- Accumulator Cliquets"
   ]
  },
  {
   "cell_type": "code",
   "execution_count": null,
   "metadata": {},
   "outputs": [],
   "source": [
    "from datetime import datetime\n",
    "import numpy as np\n",
    "import pandas as pd\n",
    "from qablet_contracts.eq.vanilla import Option\n",
    "from qablet_contracts.timetable import py_to_ts\n",
    "from src.qablet_utils import option_prices\n",
    "from src.models.aes import HestonAESMC\n",
    "from src.models.basic import HestonMCModel\n",
    "from src.models.closed import price_vanilla_call"
   ]
  },
  {
   "cell_type": "markdown",
   "metadata": {},
   "source": [
    "## Create Dataset\n",
    "Create the dataset, with MC params, discounts and fwds as required by the [Dataset API](https://qablet-academy.github.io/intro/dataset/) \n",
    "\n",
    "For the `HESTON` section, add components as needed by the methods defined above. "
   ]
  },
  {
   "cell_type": "code",
   "execution_count": null,
   "metadata": {},
   "outputs": [],
   "source": [
    "times = np.array([0.0, 5.0])\n",
    "rates = np.array([0.1, 0.1])\n",
    "discount_data = (\"ZERO_RATES\", np.column_stack((times, rates)))\n",
    "\n",
    "ticker = \"EQ\"\n",
    "spot = 100.0\n",
    "div_rate = 0.0\n",
    "fwds = spot * np.exp((rates - div_rate) * times)\n",
    "fwd_data = (\"FORWARDS\", np.column_stack((times, fwds)))\n",
    "pricing_datetime = datetime(2023, 12, 31)\n",
    "\n",
    "dataset = {\n",
    "    \"BASE\": \"USD\",\n",
    "    \"PRICING_TS\": py_to_ts(pricing_datetime).value,\n",
    "    \"ASSETS\": {\"USD\": discount_data, ticker: fwd_data},\n",
    "    \"MC\": {\n",
    "        \"PATHS\": 2_500,\n",
    "        \"TIMESTEP\": 1 / 1000,\n",
    "        \"SEED\": 1,\n",
    "    },\n",
    "    \"HESTON\": {\n",
    "        \"ASSET\": ticker,\n",
    "        \"INITIAL_VAR\": 0.04,\n",
    "        \"LONG_VAR\": 0.04,\n",
    "        \"VOL_OF_VAR\": 1.0,\n",
    "        \"MEANREV\": 0.5,\n",
    "        \"CORRELATION\": -0.9,\n",
    "    },\n",
    "}"
   ]
  },
  {
   "cell_type": "markdown",
   "metadata": {},
   "source": [
    "## Calculate Single Option Price\n",
    "\n",
    "Define a [Vanilla Option](https://qablet.github.io/qablet-contracts/examples/equity_vanilla/) and calculate price."
   ]
  },
  {
   "cell_type": "code",
   "execution_count": null,
   "metadata": {},
   "outputs": [
    {
     "name": "stdout",
     "output_type": "stream",
     "text": [
      "  track                      time op  quantity unit\n",
      "0       2024-12-31 00:00:00+00:00  >       0.0  USD\n",
      "1       2024-12-31 00:00:00+00:00  +    -100.0  USD\n",
      "2       2024-12-31 00:00:00+00:00  +       1.0   EQ\n"
     ]
    }
   ],
   "source": [
    "# Create Contract\n",
    "strike = 100\n",
    "ticker = \"EQ\"\n",
    "timetable = Option(\n",
    "    \"USD\", ticker, strike=strike, maturity=datetime(2024, 12, 31), is_call=True\n",
    ").timetable()\n",
    "print(timetable[\"events\"].to_pandas())"
   ]
  },
  {
   "cell_type": "code",
   "execution_count": null,
   "metadata": {},
   "outputs": [
    {
     "name": "stdout",
     "output_type": "stream",
     "text": [
      "price:   12.383923\n"
     ]
    }
   ],
   "source": [
    "model_aes = HestonAESMC()\n",
    "price_aes, stats = model_aes.price(timetable, dataset)\n",
    "print(f\"price: {price_aes:11.6f}\")"
   ]
  },
  {
   "cell_type": "code",
   "execution_count": null,
   "metadata": {},
   "outputs": [
    {
     "name": "stdout",
     "output_type": "stream",
     "text": [
      "price:   12.431101\n"
     ]
    }
   ],
   "source": [
    "model_basic = HestonMCModel()\n",
    "price, stats = model_aes.price(timetable, dataset)\n",
    "print(f\"price: {price:11.6f}\")"
   ]
  },
  {
   "cell_type": "code",
   "execution_count": null,
   "metadata": {},
   "outputs": [
    {
     "name": "stdout",
     "output_type": "stream",
     "text": [
      "closed_price:   12.331475\n"
     ]
    }
   ],
   "source": [
    "# Closed form price\n",
    "closed_price, _ = price_vanilla_call(\n",
    "    strike,\n",
    "    1.0,\n",
    "    ticker,\n",
    "    dataset,\n",
    ")\n",
    "print(f\"closed_price: {closed_price:11.6f}\")"
   ]
  },
  {
   "cell_type": "markdown",
   "metadata": {},
   "source": [
    "## Generate Multiple Option prices"
   ]
  },
  {
   "cell_type": "code",
   "execution_count": null,
   "metadata": {},
   "outputs": [],
   "source": [
    "expirations = [\n",
    "    datetime(2024, 3, 31),\n",
    "    datetime(2024, 6, 30),\n",
    "    datetime(2024, 12, 31),\n",
    "]\n",
    "strikes = np.array([0.8, 0.9, 1.0, 1.1, 1.2]) * spot\n",
    "is_call = True"
   ]
  },
  {
   "cell_type": "code",
   "execution_count": null,
   "metadata": {},
   "outputs": [
    {
     "name": "stdout",
     "output_type": "stream",
     "text": [
      "   Strike  2024-03-31  2024-06-30  2024-12-31\n",
      "0    80.0   22.543674   24.841738   28.794924\n",
      "1    90.0   13.372161   15.995866   20.388320\n",
      "2   100.0    4.967488    7.599193   12.263109\n",
      "3   110.0    0.169816    0.913060    4.764587\n",
      "4   120.0    0.006676    0.051365    0.428029\n"
     ]
    }
   ],
   "source": [
    "aes_prices_df = option_prices(\n",
    "    ticker, expirations, strikes, is_call, model_aes, dataset\n",
    ")\n",
    "print(aes_prices_df)"
   ]
  },
  {
   "cell_type": "code",
   "execution_count": null,
   "metadata": {},
   "outputs": [
    {
     "name": "stdout",
     "output_type": "stream",
     "text": [
      "   Strike  2024-03-31  2024-06-30  2024-12-31\n",
      "0    80.0   22.263434   24.827605   29.123152\n",
      "1    90.0   13.144785   15.948700   20.658092\n",
      "2   100.0    4.853114    7.558823   12.451971\n",
      "3   110.0    0.115870    0.874737    4.854035\n",
      "4   120.0    0.001159    0.028506    0.427904\n"
     ]
    }
   ],
   "source": [
    "prices_df = option_prices(\n",
    "    ticker, expirations, strikes, is_call, model_basic, dataset\n",
    ")\n",
    "print(prices_df)"
   ]
  },
  {
   "cell_type": "markdown",
   "metadata": {},
   "source": [
    "## Error vs Closed Form"
   ]
  },
  {
   "cell_type": "code",
   "execution_count": null,
   "metadata": {},
   "outputs": [
    {
     "name": "stdout",
     "output_type": "stream",
     "text": [
      "   Strike  2024-03-31  2024-06-30  2024-12-31\n",
      "0    80.0   22.367712   24.774291   28.959679\n",
      "1    90.0   13.245177   15.940640   20.524025\n",
      "2   100.0    4.892852    7.544810   12.350271\n",
      "3   110.0    0.127474    0.851502    4.776674\n",
      "4   120.0    0.001781    0.039581    0.422797\n"
     ]
    }
   ],
   "source": [
    "closed_price_df = pd.DataFrame.from_dict({\"Strike\": strikes})\n",
    "for i, exp in enumerate(expirations):\n",
    "    prc_ts = dataset[\"PRICING_TS\"]\n",
    "    # Get Time in years from the millisecond timestamps\n",
    "    T = (py_to_ts(exp).value - prc_ts) / (365.25 * 24 * 3600 * 1e3)\n",
    "    closed_prices = []\n",
    "    for strike in strikes:\n",
    "        closed_price, _ = price_vanilla_call(\n",
    "            strike,\n",
    "            T,\n",
    "            ticker,\n",
    "            dataset,\n",
    "        )\n",
    "        closed_prices.append(closed_price)\n",
    "\n",
    "    exp_str = exp.strftime(\"%Y-%m-%d\")\n",
    "    closed_price_df[exp_str] = closed_prices\n",
    "\n",
    "print(closed_price_df)"
   ]
  },
  {
   "cell_type": "code",
   "execution_count": null,
   "metadata": {},
   "outputs": [
    {
     "data": {
      "text/html": [
       "<div>\n",
       "<style scoped>\n",
       "    .dataframe tbody tr th:only-of-type {\n",
       "        vertical-align: middle;\n",
       "    }\n",
       "\n",
       "    .dataframe tbody tr th {\n",
       "        vertical-align: top;\n",
       "    }\n",
       "\n",
       "    .dataframe thead th {\n",
       "        text-align: right;\n",
       "    }\n",
       "</style>\n",
       "<table border=\"1\" class=\"dataframe\">\n",
       "  <thead>\n",
       "    <tr style=\"text-align: right;\">\n",
       "      <th></th>\n",
       "      <th>Strike</th>\n",
       "      <th>2024-03-31</th>\n",
       "      <th>2024-06-30</th>\n",
       "      <th>2024-12-31</th>\n",
       "    </tr>\n",
       "  </thead>\n",
       "  <tbody>\n",
       "    <tr>\n",
       "      <th>0</th>\n",
       "      <td>0.0</td>\n",
       "      <td>-0.046007</td>\n",
       "      <td>0.140366</td>\n",
       "      <td>-0.137725</td>\n",
       "    </tr>\n",
       "    <tr>\n",
       "      <th>1</th>\n",
       "      <td>0.0</td>\n",
       "      <td>-0.027714</td>\n",
       "      <td>0.129245</td>\n",
       "      <td>-0.093447</td>\n",
       "    </tr>\n",
       "    <tr>\n",
       "      <th>2</th>\n",
       "      <td>0.0</td>\n",
       "      <td>-0.024372</td>\n",
       "      <td>0.113286</td>\n",
       "      <td>-0.031193</td>\n",
       "    </tr>\n",
       "    <tr>\n",
       "      <th>3</th>\n",
       "      <td>0.0</td>\n",
       "      <td>-0.008591</td>\n",
       "      <td>0.027709</td>\n",
       "      <td>0.019815</td>\n",
       "    </tr>\n",
       "    <tr>\n",
       "      <th>4</th>\n",
       "      <td>0.0</td>\n",
       "      <td>-0.000626</td>\n",
       "      <td>0.000250</td>\n",
       "      <td>-0.001555</td>\n",
       "    </tr>\n",
       "  </tbody>\n",
       "</table>\n",
       "</div>"
      ],
      "text/plain": [
       "   Strike  2024-03-31  2024-06-30  2024-12-31\n",
       "0     0.0   -0.046007    0.140366   -0.137725\n",
       "1     0.0   -0.027714    0.129245   -0.093447\n",
       "2     0.0   -0.024372    0.113286   -0.031193\n",
       "3     0.0   -0.008591    0.027709    0.019815\n",
       "4     0.0   -0.000626    0.000250   -0.001555"
      ]
     },
     "execution_count": null,
     "metadata": {},
     "output_type": "execute_result"
    }
   ],
   "source": [
    "aes_prices_df - closed_price_df"
   ]
  },
  {
   "cell_type": "code",
   "execution_count": null,
   "metadata": {},
   "outputs": [
    {
     "data": {
      "text/html": [
       "<div>\n",
       "<style scoped>\n",
       "    .dataframe tbody tr th:only-of-type {\n",
       "        vertical-align: middle;\n",
       "    }\n",
       "\n",
       "    .dataframe tbody tr th {\n",
       "        vertical-align: top;\n",
       "    }\n",
       "\n",
       "    .dataframe thead th {\n",
       "        text-align: right;\n",
       "    }\n",
       "</style>\n",
       "<table border=\"1\" class=\"dataframe\">\n",
       "  <thead>\n",
       "    <tr style=\"text-align: right;\">\n",
       "      <th></th>\n",
       "      <th>Strike</th>\n",
       "      <th>2024-03-31</th>\n",
       "      <th>2024-06-30</th>\n",
       "      <th>2024-12-31</th>\n",
       "    </tr>\n",
       "  </thead>\n",
       "  <tbody>\n",
       "    <tr>\n",
       "      <th>0</th>\n",
       "      <td>0.0</td>\n",
       "      <td>-0.104278</td>\n",
       "      <td>0.053314</td>\n",
       "      <td>0.163472</td>\n",
       "    </tr>\n",
       "    <tr>\n",
       "      <th>1</th>\n",
       "      <td>0.0</td>\n",
       "      <td>-0.100393</td>\n",
       "      <td>0.008060</td>\n",
       "      <td>0.134067</td>\n",
       "    </tr>\n",
       "    <tr>\n",
       "      <th>2</th>\n",
       "      <td>0.0</td>\n",
       "      <td>-0.039737</td>\n",
       "      <td>0.014014</td>\n",
       "      <td>0.101700</td>\n",
       "    </tr>\n",
       "    <tr>\n",
       "      <th>3</th>\n",
       "      <td>0.0</td>\n",
       "      <td>-0.011604</td>\n",
       "      <td>0.023235</td>\n",
       "      <td>0.077360</td>\n",
       "    </tr>\n",
       "    <tr>\n",
       "      <th>4</th>\n",
       "      <td>0.0</td>\n",
       "      <td>-0.000622</td>\n",
       "      <td>-0.011075</td>\n",
       "      <td>0.005107</td>\n",
       "    </tr>\n",
       "  </tbody>\n",
       "</table>\n",
       "</div>"
      ],
      "text/plain": [
       "   Strike  2024-03-31  2024-06-30  2024-12-31\n",
       "0     0.0   -0.104278    0.053314    0.163472\n",
       "1     0.0   -0.100393    0.008060    0.134067\n",
       "2     0.0   -0.039737    0.014014    0.101700\n",
       "3     0.0   -0.011604    0.023235    0.077360\n",
       "4     0.0   -0.000622   -0.011075    0.005107"
      ]
     },
     "execution_count": null,
     "metadata": {},
     "output_type": "execute_result"
    }
   ],
   "source": [
    "prices_df - closed_price_df"
   ]
  }
 ],
 "metadata": {
  "deepnote_execution_queue": [],
  "deepnote_notebook_id": "bb18d62bd5c4412c93abe157ba8bae7b",
  "deepnote_persisted_session": {
   "createdAt": "2023-12-14T19:45:11.526Z"
  },
  "kernelspec": {
   "display_name": ".venv",
   "language": "python",
   "name": "python3"
  },
  "language_info": {
   "codemirror_mode": {
    "name": "ipython",
    "version": 3
   },
   "file_extension": ".py",
   "mimetype": "text/x-python",
   "name": "python",
   "nbconvert_exporter": "python",
   "pygments_lexer": "ipython3"
  }
 },
 "nbformat": 4,
 "nbformat_minor": 0
}
