{
 "cells": [
  {
   "cell_type": "markdown",
   "metadata": {},
   "source": [
    "# Model Errors\n",
    "\n",
    "In this notebook we compare different versions of the Heston MC model, and calculate model errors vs closed form solution."
   ]
  },
  {
   "cell_type": "code",
   "execution_count": null,
   "metadata": {},
   "outputs": [],
   "source": [
    "from datetime import datetime\n",
    "import numpy as np\n",
    "import pandas as pd\n",
    "from qablet_contracts.eq.vanilla import Option\n",
    "from qablet_contracts.timetable import py_to_ts\n",
    "from src.qablet_utils import option_prices\n",
    "from src.models.aes import HestonAESMC\n",
    "from src.models.basic import HestonMCModel\n",
    "from src.models.closed import price_vanilla_call"
   ]
  },
  {
   "cell_type": "markdown",
   "metadata": {},
   "source": [
    "## Create Dataset\n",
    "Create the dataset, with MC params, discounts and fwds as required by the [Dataset API](https://qablet-academy.github.io/intro/dataset/)"
   ]
  },
  {
   "cell_type": "code",
   "execution_count": null,
   "metadata": {},
   "outputs": [],
   "source": [
    "# Rate Curve\n",
    "times = np.array([0.0, 5.0])\n",
    "rates = np.array([0.1, 0.1])\n",
    "discount_data = (\"ZERO_RATES\", np.column_stack((times, rates)))\n",
    "\n",
    "# Forward Curve\n",
    "ticker = \"EQ\"\n",
    "spot = 100.0\n",
    "div_rate = 0.0\n",
    "fwds = spot * np.exp((rates - div_rate) * times)\n",
    "fwd_data = (\"FORWARDS\", np.column_stack((times, fwds)))\n",
    "\n",
    "pricing_datetime = datetime(2023, 12, 31)\n",
    "dataset = {\n",
    "    \"BASE\": \"USD\",\n",
    "    \"PRICING_TS\": py_to_ts(pricing_datetime).value,\n",
    "    \"ASSETS\": {\"USD\": discount_data, ticker: fwd_data},\n",
    "    \"MC\": {\n",
    "        \"PATHS\": 2_500,\n",
    "        \"TIMESTEP\": 1 / 1000,\n",
    "        \"SEED\": 1,\n",
    "    },\n",
    "    \"HESTON\": {\n",
    "        \"ASSET\": ticker,\n",
    "        \"INITIAL_VAR\": 0.04,\n",
    "        \"LONG_VAR\": 0.04,\n",
    "        \"VOL_OF_VAR\": 1.0,\n",
    "        \"MEANREV\": 0.5,\n",
    "        \"CORRELATION\": -0.9,\n",
    "    },\n",
    "}"
   ]
  },
  {
   "cell_type": "markdown",
   "metadata": {},
   "source": [
    "## Calculate Single Option Prices\n",
    "\n",
    "Define a [Vanilla Option](https://qablet.github.io/qablet-contracts/examples/equity_vanilla/) and calculate price."
   ]
  },
  {
   "cell_type": "code",
   "execution_count": null,
   "metadata": {},
   "outputs": [
    {
     "name": "stdout",
     "output_type": "stream",
     "text": [
      "  track                      time op  quantity unit\n",
      "0       2024-12-31 00:00:00+00:00  >       0.0  USD\n",
      "1       2024-12-31 00:00:00+00:00  +    -100.0  USD\n",
      "2       2024-12-31 00:00:00+00:00  +       1.0   EQ\n"
     ]
    }
   ],
   "source": [
    "# Create Contract\n",
    "strike = 100\n",
    "ticker = \"EQ\"\n",
    "timetable = Option(\n",
    "    \"USD\", ticker, strike=strike, maturity=datetime(2024, 12, 31), is_call=True\n",
    ").timetable()\n",
    "print(timetable[\"events\"].to_pandas())"
   ]
  },
  {
   "cell_type": "code",
   "execution_count": null,
   "metadata": {},
   "outputs": [
    {
     "name": "stdout",
     "output_type": "stream",
     "text": [
      "Basic               :   12.408991\n",
      "AES                 :   12.243291\n"
     ]
    }
   ],
   "source": [
    "# Create models and price\n",
    "models = {\n",
    "    \"Basic\": HestonMCModel(),\n",
    "    \"AES\": HestonAESMC(),\n",
    "}\n",
    "\n",
    "for model_name, model in models.items():\n",
    "    price, _ = model.price(timetable, dataset)\n",
    "    print(f\"{model_name:20s}: {price:11.6f}\")"
   ]
  },
  {
   "cell_type": "code",
   "execution_count": null,
   "metadata": {},
   "outputs": [
    {
     "name": "stdout",
     "output_type": "stream",
     "text": [
      "closed_price:   12.331475\n"
     ]
    }
   ],
   "source": [
    "# Closed form price\n",
    "closed_price, _ = price_vanilla_call(\n",
    "    strike,\n",
    "    1.0,\n",
    "    ticker,\n",
    "    dataset,\n",
    ")\n",
    "print(f\"closed_price: {closed_price:11.6f}\")"
   ]
  },
  {
   "cell_type": "markdown",
   "metadata": {},
   "source": [
    "## Errors vs Closed Form"
   ]
  },
  {
   "cell_type": "code",
   "execution_count": null,
   "metadata": {},
   "outputs": [],
   "source": [
    "expirations = [\n",
    "    datetime(2024, 3, 31),\n",
    "    datetime(2024, 6, 30),\n",
    "    datetime(2024, 12, 31),\n",
    "]\n",
    "strikes = np.array([0.8, 0.9, 1.0, 1.1, 1.2]) * spot\n",
    "is_call = True"
   ]
  },
  {
   "cell_type": "markdown",
   "metadata": {},
   "source": [
    "### Get Closed Form prices"
   ]
  },
  {
   "cell_type": "code",
   "execution_count": null,
   "metadata": {},
   "outputs": [
    {
     "name": "stdout",
     "output_type": "stream",
     "text": [
      "   Strike  2024-03-31  2024-06-30  2024-12-31\n",
      "0    80.0   22.367712   24.774291   28.959679\n",
      "1    90.0   13.245177   15.940640   20.524025\n",
      "2   100.0    4.892852    7.544810   12.350271\n",
      "3   110.0    0.127474    0.851502    4.776674\n",
      "4   120.0    0.001781    0.039581    0.422797\n"
     ]
    }
   ],
   "source": [
    "closed_price_df = pd.DataFrame.from_dict({\"Strike\": strikes})\n",
    "for i, exp in enumerate(expirations):\n",
    "    prc_ts = dataset[\"PRICING_TS\"]\n",
    "    # Get Time in years from the millisecond timestamps\n",
    "    T = (py_to_ts(exp).value - prc_ts) / (365.25 * 24 * 3600 * 1e3)\n",
    "    closed_prices = []\n",
    "    for strike in strikes:\n",
    "        closed_price, _ = price_vanilla_call(\n",
    "            strike,\n",
    "            T,\n",
    "            ticker,\n",
    "            dataset,\n",
    "        )\n",
    "        closed_prices.append(closed_price)\n",
    "\n",
    "    exp_str = exp.strftime(\"%Y-%m-%d\")\n",
    "    closed_price_df[exp_str] = closed_prices\n",
    "\n",
    "print(closed_price_df)"
   ]
  },
  {
   "cell_type": "code",
   "execution_count": null,
   "metadata": {},
   "outputs": [
    {
     "name": "stdout",
     "output_type": "stream",
     "text": [
      "\n",
      "Basic\n",
      "   Strike  2024-03-31  2024-06-30  2024-12-31\n",
      "0    80.0   22.263434   24.827605   29.123152\n",
      "1    90.0   13.144785   15.948700   20.658092\n",
      "2   100.0    4.853114    7.558823   12.451971\n",
      "3   110.0    0.115870    0.874737    4.854035\n",
      "4   120.0    0.001159    0.028506    0.427904\n",
      "   Strike  2024-03-31  2024-06-30  2024-12-31\n",
      "0     0.0   -0.104278    0.053314    0.163472\n",
      "1     0.0   -0.100393    0.008060    0.134067\n",
      "2     0.0   -0.039737    0.014014    0.101700\n",
      "3     0.0   -0.011604    0.023235    0.077360\n",
      "4     0.0   -0.000622   -0.011075    0.005107\n",
      "\n",
      "AES\n",
      "   Strike  2024-03-31  2024-06-30  2024-12-31\n",
      "0    80.0   22.470305   24.964908   29.065946\n",
      "1    90.0   13.330488   16.087808   20.595332\n",
      "2   100.0    4.963877    7.629498   12.395392\n",
      "3   110.0    0.133646    0.864486    4.805130\n",
      "4   120.0    0.000474    0.036460    0.450419\n",
      "   Strike  2024-03-31  2024-06-30  2024-12-31\n",
      "0     0.0    0.102593    0.190617    0.106266\n",
      "1     0.0    0.085310    0.147168    0.071307\n",
      "2     0.0    0.071026    0.084689    0.045120\n",
      "3     0.0    0.006172    0.012984    0.028456\n",
      "4     0.0   -0.001307   -0.003121    0.027622\n"
     ]
    }
   ],
   "source": [
    "for model_name, model in models.items():\n",
    "    prices_df = option_prices(\n",
    "        ticker, expirations, strikes, is_call, model, dataset\n",
    "    )\n",
    "    print(f\"\\n{model_name}\")\n",
    "    print(prices_df)\n",
    "\n",
    "    print(prices_df - closed_price_df)"
   ]
  }
 ],
 "metadata": {
  "deepnote_execution_queue": [],
  "deepnote_notebook_id": "bb18d62bd5c4412c93abe157ba8bae7b",
  "deepnote_persisted_session": {
   "createdAt": "2023-12-14T19:45:11.526Z"
  },
  "kernelspec": {
   "display_name": ".venv",
   "language": "python",
   "name": "python3"
  },
  "language_info": {
   "codemirror_mode": {
    "name": "ipython",
    "version": 3
   },
   "file_extension": ".py",
   "mimetype": "text/x-python",
   "name": "python",
   "nbconvert_exporter": "python",
   "pygments_lexer": "ipython3"
  }
 },
 "nbformat": 4,
 "nbformat_minor": 0
}
