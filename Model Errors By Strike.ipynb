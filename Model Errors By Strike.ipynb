{
 "cells": [
  {
   "cell_type": "markdown",
   "metadata": {},
   "source": [
    "# Model Errors (by strike and maturity)\n",
    "\n",
    "In this notebook we compare different versions of the Heston MC model, and calculate model errors vs closed form solution.\n",
    "We look at model errors at different strikes and maturities."
   ]
  },
  {
   "cell_type": "code",
   "execution_count": null,
   "metadata": {},
   "outputs": [],
   "source": [
    "from datetime import datetime\n",
    "\n",
    "import numpy as np\n",
    "import pandas as pd\n",
    "from qablet_contracts.eq.vanilla import Option\n",
    "from qablet_contracts.timetable import py_to_ts\n",
    "\n",
    "from src.models.aes import HestonAESMC\n",
    "from src.models.basic import HestonMCBasic\n",
    "from src.models.better import HestonMCBetter\n",
    "from src.models.closed import price_vanilla_call\n",
    "from src.qablet_utils import option_prices"
   ]
  },
  {
   "cell_type": "markdown",
   "metadata": {},
   "source": [
    "## Create Dataset\n",
    "Create the dataset, with MC params, discounts and fwds as required by the [Dataset API](https://qablet-academy.github.io/intro/dataset/)"
   ]
  },
  {
   "cell_type": "code",
   "execution_count": null,
   "metadata": {},
   "outputs": [],
   "source": [
    "# Rate Curve\n",
    "times = np.array([0.0, 5.0])\n",
    "rates = np.array([0.1, 0.1])\n",
    "discount_data = (\"ZERO_RATES\", np.column_stack((times, rates)))\n",
    "\n",
    "# Forward Curve\n",
    "ticker = \"EQ\"\n",
    "spot = 100.0\n",
    "div_rate = 0.0\n",
    "fwds = spot * np.exp((rates - div_rate) * times)\n",
    "fwd_data = (\"FORWARDS\", np.column_stack((times, fwds)))\n",
    "\n",
    "pricing_datetime = datetime(2023, 12, 31)\n",
    "dataset = {\n",
    "    \"BASE\": \"USD\",\n",
    "    \"PRICING_TS\": py_to_ts(pricing_datetime).value,\n",
    "    \"ASSETS\": {\"USD\": discount_data, ticker: fwd_data},\n",
    "    \"MC\": {\n",
    "        \"PATHS\": 10_000,\n",
    "        \"TIMESTEP\": 1 / 1000,\n",
    "        \"SEED\": 1,\n",
    "    },\n",
    "    \"HESTON\": {\n",
    "        \"ASSET\": ticker,\n",
    "        \"INITIAL_VAR\": 0.04,\n",
    "        \"LONG_VAR\": 0.04,\n",
    "        \"VOL_OF_VAR\": 0.8,\n",
    "        \"MEANREV\": 1.0,\n",
    "        \"CORRELATION\": -0.9,\n",
    "    },\n",
    "}"
   ]
  },
  {
   "cell_type": "markdown",
   "metadata": {},
   "source": [
    "## Calculate Single Option Prices\n",
    "\n",
    "Define a [Vanilla Option](https://qablet.github.io/qablet-contracts/examples/equity_vanilla/) and calculate price."
   ]
  },
  {
   "cell_type": "code",
   "execution_count": null,
   "metadata": {},
   "outputs": [
    {
     "name": "stdout",
     "output_type": "stream",
     "text": [
      "  track                      time op  quantity unit\n",
      "0       2024-12-31 00:00:00+00:00  >       0.0  USD\n",
      "1       2024-12-31 00:00:00+00:00  +    -100.0  USD\n",
      "2       2024-12-31 00:00:00+00:00  +       1.0   EQ\n"
     ]
    }
   ],
   "source": [
    "# Create Contract\n",
    "strike = 100\n",
    "timetable = Option(\n",
    "    \"USD\", ticker, strike=strike, maturity=datetime(2024, 12, 31), is_call=True\n",
    ").timetable()\n",
    "print(timetable[\"events\"].to_pandas())"
   ]
  },
  {
   "cell_type": "code",
   "execution_count": null,
   "metadata": {},
   "outputs": [
    {
     "name": "stdout",
     "output_type": "stream",
     "text": [
      "Basic               :   13.005833\n",
      "AES                 :   12.879431\n",
      "Better              :   13.005703\n"
     ]
    }
   ],
   "source": [
    "# Create models and price\n",
    "models = {\n",
    "    \"Basic\": HestonMCBasic(),\n",
    "    \"AES\": HestonAESMC(),\n",
    "    \"Better\": HestonMCBetter(),  # Uses Log Euler for spot, antithetic paths, and milstein discretization for vol\n",
    "}\n",
    "\n",
    "for model_name, model in models.items():\n",
    "    price, _ = model.price(timetable, dataset)\n",
    "    print(f\"{model_name:20s}: {price:11.6f}\")"
   ]
  },
  {
   "cell_type": "code",
   "execution_count": null,
   "metadata": {},
   "outputs": [
    {
     "name": "stdout",
     "output_type": "stream",
     "text": [
      "ref_price:   12.903195\n"
     ]
    }
   ],
   "source": [
    "# Closed form price\n",
    "ref_price, _ = price_vanilla_call(\n",
    "    strike,\n",
    "    1.0,\n",
    "    ticker,\n",
    "    dataset,\n",
    ")\n",
    "print(f\"ref_price: {ref_price:11.6f}\")"
   ]
  },
  {
   "cell_type": "markdown",
   "metadata": {},
   "source": [
    "## Model Errors vs Closed Form"
   ]
  },
  {
   "cell_type": "code",
   "execution_count": null,
   "metadata": {},
   "outputs": [],
   "source": [
    "expirations = [\n",
    "    datetime(2024, 3, 31),\n",
    "    datetime(2024, 6, 30),\n",
    "    datetime(2024, 12, 31),\n",
    "]\n",
    "strikes = np.array([0.8, 0.9, 1.0, 1.1, 1.2]) * spot\n",
    "is_call = True"
   ]
  },
  {
   "cell_type": "markdown",
   "metadata": {},
   "source": [
    "### Get Closed Form prices"
   ]
  },
  {
   "cell_type": "code",
   "execution_count": null,
   "metadata": {},
   "outputs": [
    {
     "name": "stdout",
     "output_type": "stream",
     "text": [
      "   Strike  2024-03-31  2024-06-30  2024-12-31\n",
      "0    80.0   22.288457   24.694725   28.978834\n",
      "1    90.0   13.191565   15.984275   20.740817\n",
      "2   100.0    5.104238    7.921329   12.922584\n",
      "3   110.0    0.215422    1.502994    5.898664\n",
      "4   120.0    0.001162    0.041960    1.026916\n"
     ]
    }
   ],
   "source": [
    "ref_price_df = pd.DataFrame.from_dict({\"Strike\": strikes})\n",
    "for i, exp in enumerate(expirations):\n",
    "    prc_ts = dataset[\"PRICING_TS\"]\n",
    "    # Get Time in years from the millisecond timestamps\n",
    "    T = (py_to_ts(exp).value - prc_ts) / (365.25 * 24 * 3600 * 1e3)\n",
    "    ref_prices = []\n",
    "    for strike in strikes:\n",
    "        ref_price, _ = price_vanilla_call(\n",
    "            strike,\n",
    "            T,\n",
    "            ticker,\n",
    "            dataset,\n",
    "        )\n",
    "        ref_prices.append(ref_price)\n",
    "\n",
    "    exp_str = exp.strftime(\"%Y-%m-%d\")\n",
    "    ref_price_df[exp_str] = ref_prices\n",
    "\n",
    "print(ref_price_df)"
   ]
  },
  {
   "cell_type": "code",
   "execution_count": null,
   "metadata": {},
   "outputs": [
    {
     "name": "stdout",
     "output_type": "stream",
     "text": [
      "\n",
      "Basic\n",
      "   Strike  2024-03-31  2024-06-30  2024-12-31\n",
      "0     0.0    0.177418    0.209874    0.177377\n",
      "1     0.0    0.155712    0.154603    0.147418\n",
      "2     0.0    0.056505    0.074979    0.103383\n",
      "3     0.0   -0.000935    0.010545    0.069230\n",
      "4     0.0   -0.000815   -0.002394    0.001727\n",
      "\n",
      "AES\n",
      "   Strike  2024-03-31  2024-06-30  2024-12-31\n",
      "0     0.0   -0.058169    0.007420    0.116343\n",
      "1     0.0   -0.053802   -0.007827    0.075223\n",
      "2     0.0   -0.035044   -0.017253    0.035863\n",
      "3     0.0   -0.000447    0.019979    0.024081\n",
      "4     0.0   -0.000500    0.004394    0.023946\n",
      "\n",
      "Better\n",
      "   Strike  2024-03-31  2024-06-30  2024-12-31\n",
      "0     0.0    0.111926    0.097992    0.109349\n",
      "1     0.0    0.060244    0.072703    0.096665\n",
      "2     0.0    0.054248    0.051776    0.080560\n",
      "3     0.0    0.010100    0.026519    0.044196\n",
      "4     0.0    0.000927    0.000267    0.017338\n"
     ]
    }
   ],
   "source": [
    "for model_name, model in models.items():\n",
    "    prices_df = option_prices(\n",
    "        ticker, expirations, strikes, is_call, model, dataset\n",
    "    )\n",
    "    print(f\"\\n{model_name}\")\n",
    "    print(prices_df - ref_price_df)"
   ]
  }
 ],
 "metadata": {
  "deepnote_execution_queue": [],
  "deepnote_notebook_id": "bb18d62bd5c4412c93abe157ba8bae7b",
  "deepnote_persisted_session": {
   "createdAt": "2023-12-14T19:45:11.526Z"
  },
  "kernelspec": {
   "display_name": ".venv",
   "language": "python",
   "name": "python3"
  },
  "language_info": {
   "codemirror_mode": {
    "name": "ipython",
    "version": 3
   },
   "file_extension": ".py",
   "mimetype": "text/x-python",
   "name": "python",
   "nbconvert_exporter": "python",
   "pygments_lexer": "ipython3"
  }
 },
 "nbformat": 4,
 "nbformat_minor": 0
}
