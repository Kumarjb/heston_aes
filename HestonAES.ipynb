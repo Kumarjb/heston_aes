{
 "cells": [
  {
   "cell_type": "markdown",
   "metadata": {},
   "source": [
    "# Heston Almost Exact Simulation\n",
    "\n",
    "This is a qablet adaptation of [Heston Almost Exact Simulation](https://github.com/nburgessx/Papers/tree/main/HestonSimulation) by Nicholas Burgess."
   ]
  },
  {
   "cell_type": "code",
   "execution_count": null,
   "metadata": {},
   "outputs": [],
   "source": [
    "import numpy as np\n",
    "import pandas as pd\n",
    "from datetime import datetime\n",
    "\n",
    "from qablet.base.mc import MCModel, MCStateBase\n",
    "from numpy.random import Generator, SFC64\n",
    "from qablet.base.utils import Forwards\n",
    "from qablet_contracts.eq.vanilla import Option\n",
    "from qablet_contracts.eq.forward import ForwardOption\n",
    "from qablet_contracts.eq.cliquet import Accumulator\n",
    "from qablet_contracts.timetable import py_to_ts\n",
    "from src.qablet_utils import option_prices"
   ]
  },
  {
   "cell_type": "markdown",
   "metadata": {},
   "source": [
    "## Create the Model State Class"
   ]
  },
  {
   "cell_type": "code",
   "execution_count": null,
   "metadata": {},
   "outputs": [],
   "source": [
    "def CIR_Sample(NoOfPaths, kappa, gamma, vbar, s, t, v_s):\n",
    "    delta = 4.0 * kappa * vbar / gamma / gamma\n",
    "    c = 1.0 / (4.0 * kappa) * gamma * gamma * (1.0 - np.exp(-kappa * (t - s)))\n",
    "    kappaBar = (\n",
    "        4.0\n",
    "        * kappa\n",
    "        * v_s\n",
    "        * np.exp(-kappa * (t - s))\n",
    "        / (gamma * gamma * (1.0 - np.exp(-kappa * (t - s))))\n",
    "    )\n",
    "    sample = c * np.random.noncentral_chisquare(delta, kappaBar, NoOfPaths)\n",
    "    return sample\n",
    "\n",
    "\n",
    "class HestonAESMCState(MCStateBase):\n",
    "    def __init__(self, timetable, dataset):\n",
    "        super().__init__(timetable, dataset)\n",
    "\n",
    "        # fetch the model parameters from the dataset\n",
    "        self.n = dataset[\"MC\"][\"PATHS\"]\n",
    "        self.asset = dataset[\"HESTON\"][\"ASSET\"]\n",
    "        self.asset_fwd = Forwards(dataset[\"ASSETS\"][self.asset])\n",
    "        self.spot = self.asset_fwd.forward(0)\n",
    "\n",
    "        self.gamma = dataset[\"HESTON\"][\"VOL_OF_VAR\"]\n",
    "        self.kappa = dataset[\"HESTON\"][\"MEANREV\"]\n",
    "        self.vbar = dataset[\"HESTON\"][\"LONG_VAR\"]\n",
    "        self.rho = dataset[\"HESTON\"][\"CORRELATION\"]\n",
    "\n",
    "        # Initialize the arrays\n",
    "        self.rng = Generator(SFC64(dataset[\"MC\"][\"SEED\"]))\n",
    "        self.x_vec = np.zeros(self.n)  # process x (log stock)\n",
    "        # Initialize as a scalar, it will become a vector in the advance method\n",
    "        self.v = dataset[\"HESTON\"][\"INITIAL_VAR\"]\n",
    "\n",
    "        self.cur_time = 0\n",
    "\n",
    "    def advance(self, new_time):\n",
    "        \"\"\"Update x_vec in place when we move simulation by time dt.\"\"\"\n",
    "\n",
    "        dt = new_time - self.cur_time\n",
    "        if dt < 1e-10:\n",
    "            return\n",
    "\n",
    "        r = self.asset_fwd.rate(new_time, self.cur_time)\n",
    "\n",
    "        # Generate the Brownian Increments\n",
    "        dw_vec = self.rng.standard_normal(self.n) * np.sqrt(dt)  # * self.vol\n",
    "\n",
    "        # Exact samples for the variance process\n",
    "        new_v = CIR_Sample(\n",
    "            self.n, self.kappa, self.gamma, self.vbar, 0, dt, self.v\n",
    "        )\n",
    "\n",
    "        # AES Constant Terms\n",
    "        k0 = (r - self.rho / self.gamma * self.kappa * self.vbar) * dt\n",
    "        k1 = (\n",
    "            self.rho * self.kappa / self.gamma - 0.5\n",
    "        ) * dt - self.rho / self.gamma\n",
    "        k2 = self.rho / self.gamma\n",
    "\n",
    "        # Almost Exact Simulation for Log-Normal Asset Process\n",
    "        self.x_vec += (\n",
    "            k0\n",
    "            + k1 * self.v\n",
    "            + k2 * new_v\n",
    "            + np.sqrt((1.0 - self.rho**2) * self.v) * dw_vec\n",
    "        )\n",
    "\n",
    "        self.v = new_v\n",
    "        self.cur_time = new_time\n",
    "\n",
    "    def get_value(self, unit):\n",
    "        \"\"\"Return the value of the unit at the current time.\n",
    "        This model uses black scholes model for one asset, return its value using the simulated array.\n",
    "        For any other asset that may exist in the timetable, just return the default implementation in\n",
    "        the model base (i.e. simply return the forwards).\"\"\"\n",
    "\n",
    "        if unit == self.asset:\n",
    "            return self.spot * np.exp(self.x_vec)\n",
    "        else:\n",
    "            return None"
   ]
  },
  {
   "cell_type": "markdown",
   "metadata": {},
   "source": [
    "## Create the Model class\n",
    "We will now create the model class. In this case all we have to do is specify the state_class to be used by this model."
   ]
  },
  {
   "cell_type": "code",
   "execution_count": null,
   "metadata": {},
   "outputs": [],
   "source": [
    "class HestonAESMC(MCModel):\n",
    "    def state_class(self):\n",
    "        return HestonAESMCState"
   ]
  },
  {
   "cell_type": "markdown",
   "metadata": {},
   "source": [
    "## Create Dataset\n",
    "Create the dataset, with MC params, discounts and fwds as in previous examples. Add the parameters needed by our model."
   ]
  },
  {
   "cell_type": "code",
   "execution_count": null,
   "metadata": {},
   "outputs": [],
   "source": [
    "times = np.array([0.0, 5.0])\n",
    "rates = np.array([0.1, 0.1])\n",
    "discount_data = (\"ZERO_RATES\", np.column_stack((times, rates)))\n",
    "\n",
    "ticker = \"EQ\"\n",
    "spot = 100.0\n",
    "div_rate = 0.0\n",
    "fwds = spot * np.exp((rates - div_rate) * times)\n",
    "fwd_data = (\"FORWARDS\", np.column_stack((times, fwds)))\n",
    "\n",
    "dataset = {\n",
    "    \"BASE\": \"USD\",\n",
    "    \"PRICING_TS\": py_to_ts(datetime(2023, 12, 31)).value,\n",
    "    \"ASSETS\": {\"USD\": discount_data, ticker: fwd_data},\n",
    "    \"MC\": {\n",
    "        \"PATHS\": 2_500,\n",
    "        \"TIMESTEP\": 1 / 1000,\n",
    "        \"SEED\": 1,\n",
    "    },\n",
    "    \"HESTON\": {\n",
    "        \"ASSET\": ticker,\n",
    "        \"INITIAL_VAR\": 0.04,\n",
    "        \"LONG_VAR\": 0.04,\n",
    "        \"VOL_OF_VAR\": 1.0,\n",
    "        \"MEANREV\": 0.5,\n",
    "        \"CORRELATION\": -0.9,\n",
    "    },\n",
    "}"
   ]
  },
  {
   "cell_type": "markdown",
   "metadata": {},
   "source": [
    "## Calculate Single Option Price"
   ]
  },
  {
   "cell_type": "code",
   "execution_count": null,
   "metadata": {},
   "outputs": [
    {
     "name": "stdout",
     "output_type": "stream",
     "text": [
      "  track                      time op  quantity unit\n",
      "0       2024-12-31 00:00:00+00:00  >       0.0  USD\n",
      "1       2024-12-31 00:00:00+00:00  +    -100.0  USD\n",
      "2       2024-12-31 00:00:00+00:00  +       1.0   EQ\n",
      "price:   12.259944\n"
     ]
    }
   ],
   "source": [
    "model = HestonAESMC()\n",
    "\n",
    "# Create Contract\n",
    "strike = 100\n",
    "ticker = \"EQ\"\n",
    "timetable = Option(\n",
    "    \"USD\", ticker, strike=strike, maturity=datetime(2024, 12, 31), is_call=True\n",
    ").timetable()\n",
    "print(timetable[\"events\"].to_pandas())\n",
    "\n",
    "price, stats = model.price(timetable, dataset)\n",
    "print(f\"price: {price:11.6f}\")"
   ]
  },
  {
   "cell_type": "markdown",
   "metadata": {},
   "source": [
    "## Generate Multiple Option prices"
   ]
  },
  {
   "cell_type": "code",
   "execution_count": null,
   "metadata": {},
   "outputs": [
    {
     "name": "stdout",
     "output_type": "stream",
     "text": [
      "   Strike  2024-03-31  2024-06-30  2024-12-31\n",
      "0    80.0   22.369317   24.738565   28.790613\n",
      "1    90.0   13.260894   15.932704   20.433361\n",
      "2   100.0    4.885113    7.561712   12.291547\n",
      "3   110.0    0.138555    0.880307    4.709466\n",
      "4   120.0    0.003813    0.039283    0.412092\n"
     ]
    }
   ],
   "source": [
    "expirations = [\n",
    "    datetime(2024, 3, 31),\n",
    "    datetime(2024, 6, 30),\n",
    "    datetime(2024, 12, 31),\n",
    "]\n",
    "strikes = np.array([0.8, 0.9, 1.0, 1.1, 1.2]) * spot\n",
    "is_call = True\n",
    "prices = option_prices(ticker, expirations, strikes, is_call, model, dataset)\n",
    "print(prices)"
   ]
  },
  {
   "cell_type": "markdown",
   "metadata": {},
   "source": [
    "## Forward Starting Option"
   ]
  },
  {
   "cell_type": "code",
   "execution_count": null,
   "metadata": {},
   "outputs": [
    {
     "name": "stdout",
     "output_type": "stream",
     "text": [
      "strike_date: 2024-03-31 price:    9.311379\n",
      "strike_date: 2024-06-30 price:    6.251180\n",
      "strike_date: 2024-11-30 price:    1.448775\n"
     ]
    }
   ],
   "source": [
    "for strike_date in [\n",
    "    datetime(2024, 3, 31),\n",
    "    datetime(2024, 6, 30),\n",
    "    datetime(2024, 11, 30),\n",
    "]:\n",
    "    timetable = ForwardOption(\n",
    "        \"USD\",\n",
    "        ticker,\n",
    "        strike_rate=1.0,\n",
    "        strike_date=strike_date,\n",
    "        maturity=datetime(2024, 12, 31),\n",
    "        is_call=True,\n",
    "    ).timetable()\n",
    "    price, stats = model.price(timetable, dataset)\n",
    "    print(f\"strike_date: {strike_date.date()} price: {price:11.6f}\")"
   ]
  },
  {
   "cell_type": "markdown",
   "metadata": {},
   "source": [
    "## Accumulator Cliquet"
   ]
  },
  {
   "cell_type": "code",
   "execution_count": null,
   "metadata": {},
   "outputs": [
    {
     "name": "stdout",
     "output_type": "stream",
     "text": [
      "price:    9.252146\n"
     ]
    }
   ],
   "source": [
    "# Create the cliquet, quarterly fixing dates\n",
    "fix_dates = pd.bdate_range(\n",
    "    datetime(2023, 12, 31), datetime(2024, 12, 31), freq=\"1BQE\"\n",
    ")\n",
    "\n",
    "for local_cap in [0.02, 0.04, 0.06]:\n",
    "    global_floor = 0.0\n",
    "    local_floor = -local_cap\n",
    "    timetable = Accumulator(\n",
    "        \"USD\",\n",
    "        ticker,\n",
    "        fix_dates,\n",
    "        global_floor,\n",
    "        local_floor,\n",
    "        local_cap,\n",
    "        state={\"S_PREV\": 1.0},\n",
    "    ).timetable()\n",
    "\n",
    "    price, stats = model.price(timetable, dataset)\n",
    "    print(f\"cap/floor: {local_cap} price: {price:11.6f}\")"
   ]
  }
 ],
 "metadata": {
  "deepnote_execution_queue": [],
  "deepnote_notebook_id": "bb18d62bd5c4412c93abe157ba8bae7b",
  "deepnote_persisted_session": {
   "createdAt": "2023-12-14T19:45:11.526Z"
  },
  "kernelspec": {
   "display_name": ".venv",
   "language": "python",
   "name": "python3"
  },
  "language_info": {
   "codemirror_mode": {
    "name": "ipython",
    "version": 3
   },
   "file_extension": ".py",
   "mimetype": "text/x-python",
   "name": "python",
   "nbconvert_exporter": "python",
   "pygments_lexer": "ipython3"
  }
 },
 "nbformat": 4,
 "nbformat_minor": 0
}
