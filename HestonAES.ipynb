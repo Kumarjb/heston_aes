{
 "cells": [
  {
   "cell_type": "markdown",
   "metadata": {},
   "source": [
    "# Heston Almost Exact Simulation\n",
    "\n",
    "In this notebook we adapt the implementation of Heston Almost Exact Simulation by [Nicholas Burgess](https://github.com/nburgessx/Papers/tree/main/HestonSimulation), into a qablet MC Model, and use it to price\n",
    "\n",
    "- Vanilla Options\n",
    "- Forward Starting Options\n",
    "- Accumulator Cliquets"
   ]
  },
  {
   "cell_type": "code",
   "execution_count": null,
   "metadata": {},
   "outputs": [],
   "source": [
    "from datetime import datetime\n",
    "\n",
    "import numpy as np\n",
    "import pandas as pd\n",
    "from qablet_contracts.eq.cliquet import Accumulator\n",
    "from qablet_contracts.eq.forward import ForwardOption\n",
    "from qablet_contracts.eq.vanilla import Option\n",
    "from qablet_contracts.timetable import py_to_ts\n",
    "\n",
    "from src.models.aes import HestonAESMC\n",
    "from src.qablet_utils import MCPricer"
   ]
  },
  {
   "cell_type": "markdown",
   "metadata": {},
   "source": [
    "## Create Dataset\n",
    "Create the dataset, with MC params, discounts and fwds as required by the [Dataset API](https://qablet-academy.github.io/intro/dataset/) \n",
    "\n",
    "For the `HESTON` section, add components as needed by the methods defined above. "
   ]
  },
  {
   "cell_type": "code",
   "execution_count": null,
   "metadata": {},
   "outputs": [],
   "source": [
    "times = np.array([0.0, 5.0])\n",
    "rates = np.array([0.1, 0.1])\n",
    "discount_data = (\"ZERO_RATES\", np.column_stack((times, rates)))\n",
    "\n",
    "ticker = \"EQ\"\n",
    "spot = 100.0\n",
    "div_rate = 0.0\n",
    "fwds = spot * np.exp((rates - div_rate) * times)\n",
    "fwd_data = (\"FORWARDS\", np.column_stack((times, fwds)))\n",
    "\n",
    "dataset = {\n",
    "    \"BASE\": \"USD\",\n",
    "    \"PRICING_TS\": py_to_ts(datetime(2023, 12, 31)).value,\n",
    "    \"ASSETS\": {\"USD\": discount_data, ticker: fwd_data},\n",
    "    \"MC\": {\n",
    "        \"PATHS\": 2_500,\n",
    "        \"TIMESTEP\": 1 / 1000,\n",
    "        \"SEED\": 1,\n",
    "    },\n",
    "    \"HESTON\": {\n",
    "        \"ASSET\": ticker,\n",
    "        \"INITIAL_VAR\": 0.04,\n",
    "        \"LONG_VAR\": 0.04,\n",
    "        \"VOL_OF_VOL\": 1.0,\n",
    "        \"MEANREV\": 0.5,\n",
    "        \"CORRELATION\": -0.9,\n",
    "    },\n",
    "}"
   ]
  },
  {
   "cell_type": "markdown",
   "metadata": {},
   "source": [
    "## Calculate Single Option Price\n",
    "\n",
    "Define a [Vanilla Option](https://qablet.github.io/qablet-contracts/examples/equity_vanilla/) and calculate price."
   ]
  },
  {
   "cell_type": "code",
   "execution_count": null,
   "metadata": {},
   "outputs": [
    {
     "name": "stdout",
     "output_type": "stream",
     "text": [
      "                       time op  quantity unit track\n",
      "0 2024-12-31 00:00:00+00:00  >       0.0  USD      \n",
      "1 2024-12-31 00:00:00+00:00  +    -100.0  USD      \n",
      "2 2024-12-31 00:00:00+00:00  +       1.0   EQ      \n",
      "price:   12.100248\n"
     ]
    }
   ],
   "source": [
    "model = MCPricer(HestonAESMC)\n",
    "\n",
    "# Create Contract\n",
    "strike = 100\n",
    "ticker = \"EQ\"\n",
    "timetable = Option(\n",
    "    \"USD\", ticker, strike=strike, maturity=datetime(2024, 12, 31), is_call=True\n",
    ").timetable()\n",
    "print(timetable[\"events\"].to_pandas())\n",
    "\n",
    "price, stats = model.price(timetable, dataset)\n",
    "print(f\"price: {price:11.6f}\")"
   ]
  },
  {
   "cell_type": "markdown",
   "metadata": {},
   "source": [
    "## Forward Starting Option\n",
    "\n",
    "Define a [Forward Starting Option](https://qablet.github.io/qablet-contracts/examples/equity_fwdoption/) and calculate price."
   ]
  },
  {
   "cell_type": "code",
   "execution_count": null,
   "metadata": {},
   "outputs": [
    {
     "name": "stdout",
     "output_type": "stream",
     "text": [
      "strike_date: 2024-03-31 price:    9.048823\n",
      "strike_date: 2024-06-30 price:    6.308333\n",
      "strike_date: 2024-11-30 price:    1.362673\n"
     ]
    }
   ],
   "source": [
    "for strike_date in [\n",
    "    datetime(2024, 3, 31),\n",
    "    datetime(2024, 6, 30),\n",
    "    datetime(2024, 11, 30),\n",
    "]:\n",
    "    timetable = ForwardOption(\n",
    "        \"USD\",\n",
    "        ticker,\n",
    "        strike_rate=1.0,\n",
    "        strike_date=strike_date,\n",
    "        maturity=datetime(2024, 12, 31),\n",
    "        is_call=True,\n",
    "    ).timetable()\n",
    "    price, stats = model.price(timetable, dataset)\n",
    "    print(f\"strike_date: {strike_date.date()} price: {price:11.6f}\")"
   ]
  },
  {
   "cell_type": "markdown",
   "metadata": {},
   "source": [
    "## Accumulator Cliquet\n",
    "\n",
    "Define instances of [Accumulator](https://qablet.github.io/qablet-contracts/examples/equity_cliquet/) and calculate price."
   ]
  },
  {
   "cell_type": "code",
   "execution_count": null,
   "metadata": {},
   "outputs": [
    {
     "name": "stdout",
     "output_type": "stream",
     "text": [
      "cap/floor: 0.02 price:    4.721853\n",
      "cap/floor: 0.04 price:    8.150092\n",
      "cap/floor: 0.06 price:   10.183573\n"
     ]
    }
   ],
   "source": [
    "# Create the cliquet, quarterly fixing dates\n",
    "fix_dates = pd.bdate_range(\n",
    "    datetime(2023, 12, 31), datetime(2024, 12, 31), freq=\"1BQE\"\n",
    ")\n",
    "\n",
    "for local_cap in [0.02, 0.04, 0.06]:\n",
    "    global_floor = 0.0\n",
    "    local_floor = -local_cap\n",
    "    timetable = Accumulator(\n",
    "        \"USD\",\n",
    "        ticker,\n",
    "        fix_dates,\n",
    "        global_floor,\n",
    "        local_floor,\n",
    "        local_cap,\n",
    "        state={\"S_PREV\": 1.0},\n",
    "    ).timetable()\n",
    "\n",
    "    price, stats = model.price(timetable, dataset)\n",
    "    print(f\"cap/floor: {local_cap} price: {price:11.6f}\")"
   ]
  }
 ],
 "metadata": {
  "deepnote_execution_queue": [],
  "deepnote_notebook_id": "bb18d62bd5c4412c93abe157ba8bae7b",
  "deepnote_persisted_session": {
   "createdAt": "2023-12-14T19:45:11.526Z"
  },
  "kernelspec": {
   "display_name": ".venv",
   "language": "python",
   "name": "python3"
  },
  "language_info": {
   "codemirror_mode": {
    "name": "ipython",
    "version": 3
   },
   "file_extension": ".py",
   "mimetype": "text/x-python",
   "name": "python",
   "nbconvert_exporter": "python",
   "pygments_lexer": "ipython3"
  }
 },
 "nbformat": 4,
 "nbformat_minor": 0
}
